{
 "cells": [
  {
   "cell_type": "markdown",
   "metadata": {},
   "source": [
    "#### First Implementation of scraping all events of defined Website Scrapers and Visualize them in Qgrid"
   ]
  },
  {
   "cell_type": "code",
   "execution_count": null,
   "metadata": {},
   "outputs": [],
   "source": [
    "import datetime as dt\n",
    "import ipywidgets as widgets\n",
    "from ipywidgets import HBox, VBox, Button, Dropdown, FloatText, BoundedFloatText, BoundedIntText, Label, ToggleButtons, HTML, Checkbox, AppLayout, Layout\n",
    "import webbrowser\n",
    "from src import scraper_collection"
   ]
  },
  {
   "cell_type": "code",
   "execution_count": null,
   "metadata": {},
   "outputs": [],
   "source": [
    "label_layout  = {'width': '230px'}\n",
    "button_layout = {'width': '100px'}\n",
    "widget_list = [{\n",
    "    'label': Label(scraper.name, layout = label_layout),\n",
    "    'start_scraper': Button(description='get events', layout = button_layout),\n",
    "    'open_url': Button(description='open url', layout = button_layout)\n",
    "} for scraper in scraper_collection.scrapers.values()]\n",
    "\n",
    "HBox_list = [HBox([widget for widget in widget_dict.values()]) for widget_dict in widget_list]\n",
    "app = VBox(HBox_list)\n",
    "\n",
    "def open_url_func(url):\n",
    "    def open_url(button):\n",
    "        webbrowser.open_new_tab(url)\n",
    "    return open_url\n",
    "\n",
    "for i, widget_dict in enumerate(widget_list):\n",
    "    button = widget_dict['open_url']\n",
    "    button.on_click(open_url_func(list(scraper_collection.scrapers.values())[i].url))\n",
    "\n",
    "app"
   ]
  },
  {
   "cell_type": "code",
   "execution_count": null,
   "metadata": {},
   "outputs": [],
   "source": []
  },
  {
   "cell_type": "code",
   "execution_count": null,
   "metadata": {},
   "outputs": [],
   "source": [
    "end_date= dt.datetime(2023,8,31)\n",
    "print(end_date)\n",
    "events = scraper_collection.get_all_events_df(end_date)"
   ]
  },
  {
   "cell_type": "code",
   "execution_count": null,
   "metadata": {},
   "outputs": [],
   "source": [
    "from ipyaggrid import Grid"
   ]
  },
  {
   "cell_type": "code",
   "execution_count": null,
   "metadata": {},
   "outputs": [],
   "source": [
    "cell_renderer_checkbox = '''function(params) { \n",
    "    var input = document.createElement('input');\n",
    "    input.type=\"checkbox\";\n",
    "    input.checked=params.value;\n",
    "    input.addEventListener('click', function (event) {\n",
    "      params.value=!params.value;\n",
    "      params.node.data.fieldName = params.value;\n",
    "    });\n",
    "    return input;\n",
    "  }\n",
    "'''\n",
    "\n",
    "date_picker = '''function DatePicker() {}\n",
    "DatePicker.prototype.init = function(params) {\n",
    "  this.eInput = document.createElement('input');\n",
    "  this.eInput.type = 'date';\n",
    "  this.eInput.value = params.value;\n",
    "  this.params = params;\n",
    "  var that = this;\n",
    "  this.eInput.addEventListener('input', function(event) {\n",
    "    that.params.setValue(event.target.value);\n",
    "  });\n",
    "};\n",
    "DatePicker.prototype.getGui = function() {\n",
    "  return this.eInput;\n",
    "};\n",
    "'''\n",
    "column_defs = [{'headerName':'Start','field':'start_date', 'cellDataType': 'dateString', 'editable': True},\n",
    "               {'headerName':'Typ','field':'event_type', 'editable': True},\n",
    "               {'headerName':'Titel','field':'title'},\n",
    "               {'headerName':'URL','field':'url'},\n",
    "               {'headerName':'Organisation','field':'organiser'},\n",
    "               {'headerName':'Ort','field':'location'},\n",
    "               {'headerName':'regelmäßig','field':'periodic', 'editable': True, 'cellDataType': 'boolean'},\n",
    "              ]\n",
    "\n",
    "grid_options = {\n",
    "    'columnDefs' : column_defs,\n",
    "    'enableSorting': True,\n",
    "    'enableFilter': True,\n",
    "    'enableColResize': True,\n",
    "    'enableRangeSelection': True,\n",
    "}\n",
    "\n",
    "g = Grid(grid_data=events,\n",
    "         grid_options=grid_options,\n",
    "         theme='ag-theme-balham',\n",
    "         quick_filter=True,\n",
    "         show_toggle_edit=True,\n",
    "         # export_mode=\"buttons\",\n",
    "         export_csv=True,\n",
    "         export_excel=True,\n",
    "         # show_toggle_delete=True,\n",
    "         sync_on_edit=True,\n",
    "         columns_fit='auto',\n",
    "         index=False,\n",
    "         keep_multiindex=False,)\n",
    "g"
   ]
  },
  {
   "cell_type": "code",
   "execution_count": null,
   "metadata": {},
   "outputs": [],
   "source": [
    "g.grid_data_out.get('grid')"
   ]
  },
  {
   "cell_type": "code",
   "execution_count": null,
   "metadata": {},
   "outputs": [],
   "source": []
  }
 ],
 "metadata": {
  "kernelspec": {
   "display_name": "Python 3 (ipykernel)",
   "language": "python",
   "name": "python3"
  },
  "language_info": {
   "codemirror_mode": {
    "name": "ipython",
    "version": 3
   },
   "file_extension": ".py",
   "mimetype": "text/x-python",
   "name": "python",
   "nbconvert_exporter": "python",
   "pygments_lexer": "ipython3",
   "version": "3.11.5"
  }
 },
 "nbformat": 4,
 "nbformat_minor": 4
}
