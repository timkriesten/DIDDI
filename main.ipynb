{
 "cells": [
  {
   "cell_type": "markdown",
   "metadata": {},
   "source": [
    "#### First Implementation of scraping all events of defined Website Scrapers"
   ]
  },
  {
   "cell_type": "code",
   "execution_count": 1,
   "metadata": {},
   "outputs": [
    {
     "name": "stdout",
     "output_type": "stream",
     "text": [
      "2023-07-27 00:00:00\n",
      "JapanischesPalais Scraper started.\n",
      "Test\n",
      "2023-07-24 00:00:00 ---------- 2023-07-24 10:41:41.073376\n",
      "test2\n",
      "2023-07-25 00:00:00 ---------- 2023-07-24 10:41:41.073376\n",
      "test2\n",
      "2023-07-26 00:00:00 ---------- 2023-07-24 10:41:41.073376\n",
      "test2\n",
      "2023-07-27 00:00:00 ---------- 2023-07-24 10:41:41.073376\n",
      "test2\n",
      "Datum und Zeit:  2023-07-27 13:00\n",
      "                                \n",
      "Titel:           Ferienprogramm: Ei Ei Ei!\n",
      "Typ:             Workshops\n",
      "Ort:             Japanisches Palais — Japanisches Palais \n",
      "Beschreibung:    \n",
      " Wie die Meister in Damaskus stellen wir selbst Eitemperafarben her und probieren aus, wie gut sich damit malen lässt. \n",
      "Ab 8 Jahren, max. 10 PersonenTreff: FoyerTeilnahmegebühr: kostenfrei\n",
      "                    \n",
      "                \n",
      "        \n",
      "    \n"
     ]
    },
    {
     "ename": "ValueError",
     "evalue": "unconverted data remains: \n                                ",
     "output_type": "error",
     "traceback": [
      "\u001b[1;31m---------------------------------------------------------------------------\u001b[0m",
      "\u001b[1;31mValueError\u001b[0m                                Traceback (most recent call last)",
      "Cell \u001b[1;32mIn[1], line 6\u001b[0m\n\u001b[0;32m      4\u001b[0m end_date\u001b[39m=\u001b[39m dt\u001b[39m.\u001b[39mdatetime(\u001b[39m2023\u001b[39m,\u001b[39m7\u001b[39m,\u001b[39m27\u001b[39m)\n\u001b[0;32m      5\u001b[0m \u001b[39mprint\u001b[39m(end_date)\n\u001b[1;32m----> 6\u001b[0m scraper_collection\u001b[39m.\u001b[39;49mget_all_events(end_date\u001b[39m=\u001b[39;49mend_date)\n",
      "File \u001b[1;32mc:\\Users\\kries\\Documents\\DIDDI_Laptop\\src\\scraper_collection.py:20\u001b[0m, in \u001b[0;36mScraperCollection.get_all_events\u001b[1;34m(self, end_date, start_date)\u001b[0m\n\u001b[0;32m     18\u001b[0m events: \u001b[39mlist\u001b[39m[Event] \u001b[39m=\u001b[39m []\n\u001b[0;32m     19\u001b[0m \u001b[39mfor\u001b[39;00m _, scraper \u001b[39min\u001b[39;00m \u001b[39mself\u001b[39m\u001b[39m.\u001b[39mscrapers\u001b[39m.\u001b[39mitems():\n\u001b[1;32m---> 20\u001b[0m     events \u001b[39m+\u001b[39m\u001b[39m=\u001b[39m scraper\u001b[39m.\u001b[39;49mscrape_events(start_date, end_date)\n\u001b[0;32m     21\u001b[0m \u001b[39mreturn\u001b[39;00m events\n",
      "File \u001b[1;32mc:\\Users\\kries\\Documents\\DIDDI_Laptop\\src\\scrapers\\japanisches_palais.py:62\u001b[0m, in \u001b[0;36mJapanischesPalaisScraper.scrape_events\u001b[1;34m(self, end_date, start_date)\u001b[0m\n\u001b[0;32m     57\u001b[0m             \u001b[39mprint\u001b[39m(\u001b[39m\"\u001b[39m\u001b[39m{:<16}\u001b[39;00m\u001b[39m\"\u001b[39m\u001b[39m.\u001b[39mformat(\u001b[39m'\u001b[39m\u001b[39mOrt: \u001b[39m\u001b[39m'\u001b[39m),re\u001b[39m.\u001b[39msub(\u001b[39mr\u001b[39m\u001b[39m'\u001b[39m\u001b[39m\\\u001b[39m\u001b[39ms+\u001b[39m\u001b[39m'\u001b[39m,\u001b[39m'\u001b[39m\u001b[39m \u001b[39m\u001b[39m'\u001b[39m,event_location\u001b[39m.\u001b[39mlstrip()))\n\u001b[0;32m     58\u001b[0m             \u001b[39mprint\u001b[39m(\u001b[39m\"\u001b[39m\u001b[39m{:<16}\u001b[39;00m\u001b[39m\"\u001b[39m\u001b[39m.\u001b[39mformat(\u001b[39m'\u001b[39m\u001b[39mBeschreibung:\u001b[39m\u001b[39m'\u001b[39m),\u001b[39m'\u001b[39m\u001b[39m\\n\u001b[39;00m\u001b[39m'\u001b[39m,event_details\u001b[39m.\u001b[39mlstrip())\n\u001b[0;32m     60\u001b[0m             events \u001b[39m+\u001b[39m\u001b[39m=\u001b[39m [Event(\n\u001b[0;32m     61\u001b[0m                 title \u001b[39m=\u001b[39m event_title,\n\u001b[1;32m---> 62\u001b[0m                 start_date \u001b[39m=\u001b[39m dt\u001b[39m.\u001b[39;49mdatetime\u001b[39m.\u001b[39;49mstrptime(datetime_string, \u001b[39m\"\u001b[39;49m\u001b[39m%\u001b[39;49m\u001b[39mY-\u001b[39;49m\u001b[39m%\u001b[39;49m\u001b[39mm-\u001b[39;49m\u001b[39m%d\u001b[39;49;00m\u001b[39m \u001b[39;49m\u001b[39m%\u001b[39;49m\u001b[39mH:\u001b[39;49m\u001b[39m%\u001b[39;49m\u001b[39mM\u001b[39;49m\u001b[39m\"\u001b[39;49m),\n\u001b[0;32m     63\u001b[0m                 url \u001b[39m=\u001b[39m \u001b[39mself\u001b[39m\u001b[39m.\u001b[39murl,\n\u001b[0;32m     64\u001b[0m                 location \u001b[39m=\u001b[39m event_location,\n\u001b[0;32m     65\u001b[0m                 event_type \u001b[39m=\u001b[39m event_type,\n\u001b[0;32m     66\u001b[0m                 descrption_long \u001b[39m=\u001b[39m event_details\n\u001b[0;32m     67\u001b[0m             )]\n\u001b[0;32m     69\u001b[0m \u001b[39mreturn\u001b[39;00m events\n",
      "File \u001b[1;32mc:\\Users\\kries\\AppData\\Local\\Programs\\Python\\Python310\\lib\\_strptime.py:568\u001b[0m, in \u001b[0;36m_strptime_datetime\u001b[1;34m(cls, data_string, format)\u001b[0m\n\u001b[0;32m    565\u001b[0m \u001b[39mdef\u001b[39;00m \u001b[39m_strptime_datetime\u001b[39m(\u001b[39mcls\u001b[39m, data_string, \u001b[39mformat\u001b[39m\u001b[39m=\u001b[39m\u001b[39m\"\u001b[39m\u001b[39m%a\u001b[39;00m\u001b[39m \u001b[39m\u001b[39m%\u001b[39m\u001b[39mb \u001b[39m\u001b[39m%d\u001b[39;00m\u001b[39m \u001b[39m\u001b[39m%\u001b[39m\u001b[39mH:\u001b[39m\u001b[39m%\u001b[39m\u001b[39mM:\u001b[39m\u001b[39m%\u001b[39m\u001b[39mS \u001b[39m\u001b[39m%\u001b[39m\u001b[39mY\u001b[39m\u001b[39m\"\u001b[39m):\n\u001b[0;32m    566\u001b[0m \u001b[39m    \u001b[39m\u001b[39m\"\"\"Return a class cls instance based on the input string and the\u001b[39;00m\n\u001b[0;32m    567\u001b[0m \u001b[39m    format string.\"\"\"\u001b[39;00m\n\u001b[1;32m--> 568\u001b[0m     tt, fraction, gmtoff_fraction \u001b[39m=\u001b[39m _strptime(data_string, \u001b[39mformat\u001b[39;49m)\n\u001b[0;32m    569\u001b[0m     tzname, gmtoff \u001b[39m=\u001b[39m tt[\u001b[39m-\u001b[39m\u001b[39m2\u001b[39m:]\n\u001b[0;32m    570\u001b[0m     args \u001b[39m=\u001b[39m tt[:\u001b[39m6\u001b[39m] \u001b[39m+\u001b[39m (fraction,)\n",
      "File \u001b[1;32mc:\\Users\\kries\\AppData\\Local\\Programs\\Python\\Python310\\lib\\_strptime.py:352\u001b[0m, in \u001b[0;36m_strptime\u001b[1;34m(data_string, format)\u001b[0m\n\u001b[0;32m    349\u001b[0m     \u001b[39mraise\u001b[39;00m \u001b[39mValueError\u001b[39;00m(\u001b[39m\"\u001b[39m\u001b[39mtime data \u001b[39m\u001b[39m%r\u001b[39;00m\u001b[39m does not match format \u001b[39m\u001b[39m%r\u001b[39;00m\u001b[39m\"\u001b[39m \u001b[39m%\u001b[39m\n\u001b[0;32m    350\u001b[0m                      (data_string, \u001b[39mformat\u001b[39m))\n\u001b[0;32m    351\u001b[0m \u001b[39mif\u001b[39;00m \u001b[39mlen\u001b[39m(data_string) \u001b[39m!=\u001b[39m found\u001b[39m.\u001b[39mend():\n\u001b[1;32m--> 352\u001b[0m     \u001b[39mraise\u001b[39;00m \u001b[39mValueError\u001b[39;00m(\u001b[39m\"\u001b[39m\u001b[39munconverted data remains: \u001b[39m\u001b[39m%s\u001b[39;00m\u001b[39m\"\u001b[39m \u001b[39m%\u001b[39m\n\u001b[0;32m    353\u001b[0m                       data_string[found\u001b[39m.\u001b[39mend():])\n\u001b[0;32m    355\u001b[0m iso_year \u001b[39m=\u001b[39m year \u001b[39m=\u001b[39m \u001b[39mNone\u001b[39;00m\n\u001b[0;32m    356\u001b[0m month \u001b[39m=\u001b[39m day \u001b[39m=\u001b[39m \u001b[39m1\u001b[39m\n",
      "\u001b[1;31mValueError\u001b[0m: unconverted data remains: \n                                "
     ]
    }
   ],
   "source": [
    "import datetime as dt\n",
    "from src import scraper_collection\n",
    "\n",
    "end_date= dt.datetime(2023,7,27)\n",
    "print(end_date)\n",
    "scraper_collection.get_all_events(end_date=end_date)"
   ]
  },
  {
   "cell_type": "markdown",
   "metadata": {},
   "source": [
    "#### qgrid example"
   ]
  },
  {
   "cell_type": "code",
   "execution_count": null,
   "metadata": {},
   "outputs": [],
   "source": [
    "import numpy as np\n",
    "import pandas as pd\n",
    "import qgrid\n",
    "randn = np.random.randn\n",
    "df_types = pd.DataFrame({\n",
    "    'A' : pd.Series(['2013-01-01', '2013-01-02', '2013-01-03', '2013-01-04',\n",
    "               '2013-01-05', '2013-01-06', '2013-01-07', '2013-01-08', '2013-01-09'],index=list(range(9)),dtype='datetime64[ns]'),\n",
    "    'B' : pd.Series(randn(9),index=list(range(9)),dtype='float32'),\n",
    "    'C' : pd.Categorical([\"washington\", \"adams\", \"washington\", \"madison\", \"lincoln\",\"jefferson\", \"hamilton\", \"roosevelt\", \"kennedy\"]),\n",
    "    'D' : [\"foo\", \"bar\", \"buzz\", \"bippity\",\"boppity\", \"foo\", \"foo\", \"bar\", \"zoo\"] })\n",
    "df_types['E'] = df_types['D'] == 'foo'\n",
    "qgrid_widget = qgrid.show_grid(df_types, show_toolbar=True)\n",
    "qgrid_widget"
   ]
  }
 ],
 "metadata": {
  "kernelspec": {
   "display_name": "Python 3 (ipykernel)",
   "language": "python",
   "name": "python3"
  },
  "language_info": {
   "codemirror_mode": {
    "name": "ipython",
    "version": 3
   },
   "file_extension": ".py",
   "mimetype": "text/x-python",
   "name": "python",
   "nbconvert_exporter": "python",
   "pygments_lexer": "ipython3",
   "version": "3.10.9"
  }
 },
 "nbformat": 4,
 "nbformat_minor": 2
}
