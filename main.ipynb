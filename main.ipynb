{
 "cells": [
  {
   "cell_type": "markdown",
   "metadata": {},
   "source": [
    "#### First Implementation of scraping all events of defined Website Scrapers"
   ]
  },
  {
   "cell_type": "code",
   "execution_count": 1,
   "metadata": {},
   "outputs": [
    {
     "name": "stdout",
     "output_type": "stream",
     "text": [
      "SLUB Scraper started.\n",
      "Datum und Zeit:  2023-07-25 08:15\n",
      "Titel:           DatenlaubeJam\n",
      "Typ:             Gespräch / Diskussion\n",
      "Ort:             Online-Veranstaltung\n",
      "Beschreibung:    \n",
      " \n"
     ]
    },
    {
     "ename": "UnboundLocalError",
     "evalue": "local variable 'events' referenced before assignment",
     "output_type": "error",
     "traceback": [
      "\u001b[1;31m---------------------------------------------------------------------------\u001b[0m",
      "\u001b[1;31mUnboundLocalError\u001b[0m                         Traceback (most recent call last)",
      "Cell \u001b[1;32mIn[1], line 4\u001b[0m\n\u001b[0;32m      1\u001b[0m \u001b[39mimport\u001b[39;00m \u001b[39mdatetime\u001b[39;00m \u001b[39mas\u001b[39;00m \u001b[39mdt\u001b[39;00m\n\u001b[0;32m      2\u001b[0m \u001b[39mfrom\u001b[39;00m \u001b[39msrc\u001b[39;00m \u001b[39mimport\u001b[39;00m scraper_collection\n\u001b[1;32m----> 4\u001b[0m scraper_collection\u001b[39m.\u001b[39;49mget_all_events(end_date\u001b[39m=\u001b[39;49mdt\u001b[39m.\u001b[39;49mdatetime(\u001b[39m2023\u001b[39;49m,\u001b[39m7\u001b[39;49m,\u001b[39m25\u001b[39;49m))\n",
      "File \u001b[1;32mc:\\Users\\kries\\Documents\\DIDDI_Laptop\\src\\scraper_collection.py:20\u001b[0m, in \u001b[0;36mScraperCollection.get_all_events\u001b[1;34m(self, end_date, start_date)\u001b[0m\n\u001b[0;32m     18\u001b[0m events: \u001b[39mlist\u001b[39m[Event] \u001b[39m=\u001b[39m []\n\u001b[0;32m     19\u001b[0m \u001b[39mfor\u001b[39;00m _, scraper \u001b[39min\u001b[39;00m \u001b[39mself\u001b[39m\u001b[39m.\u001b[39mscrapers\u001b[39m.\u001b[39mitems():\n\u001b[1;32m---> 20\u001b[0m     events \u001b[39m+\u001b[39m\u001b[39m=\u001b[39m scraper\u001b[39m.\u001b[39;49mscrape_events(start_date, end_date)\n\u001b[0;32m     21\u001b[0m \u001b[39mreturn\u001b[39;00m events\n",
      "File \u001b[1;32mc:\\Users\\kries\\Documents\\DIDDI_Laptop\\src\\scrapers\\slub.py:51\u001b[0m, in \u001b[0;36mSLUBScraper.scrape_events\u001b[1;34m(self, start_date, end_date)\u001b[0m\n\u001b[0;32m     48\u001b[0m     \u001b[39mprint\u001b[39m(\u001b[39m\"\u001b[39m\u001b[39m{:<16}\u001b[39;00m\u001b[39m\"\u001b[39m\u001b[39m.\u001b[39mformat(\u001b[39m'\u001b[39m\u001b[39mBeschreibung:\u001b[39m\u001b[39m'\u001b[39m),\u001b[39m'\u001b[39m\u001b[39m\\n\u001b[39;00m\u001b[39m'\u001b[39m,event_details)\n\u001b[0;32m     50\u001b[0m     \u001b[39m# add event to event list\u001b[39;00m\n\u001b[1;32m---> 51\u001b[0m     events \u001b[39m+\u001b[39m\u001b[39m=\u001b[39m [Event(\n\u001b[0;32m     52\u001b[0m                     title \u001b[39m=\u001b[39m event_title,\n\u001b[0;32m     53\u001b[0m                     start_date \u001b[39m=\u001b[39m dt\u001b[39m.\u001b[39mdatetime\u001b[39m.\u001b[39mstrptime(datetime_string, \u001b[39m\"\u001b[39m\u001b[39m%\u001b[39m\u001b[39mY-\u001b[39m\u001b[39m%\u001b[39m\u001b[39mm-\u001b[39m\u001b[39m%d\u001b[39;00m\u001b[39m \u001b[39m\u001b[39m%\u001b[39m\u001b[39mH:\u001b[39m\u001b[39m%\u001b[39m\u001b[39mM\u001b[39m\u001b[39m\"\u001b[39m),\n\u001b[0;32m     54\u001b[0m                     url \u001b[39m=\u001b[39m \u001b[39mself\u001b[39m\u001b[39m.\u001b[39murl, \u001b[39m#TODO change to event url not calender url\u001b[39;00m\n\u001b[0;32m     55\u001b[0m                     location \u001b[39m=\u001b[39m event_location,\n\u001b[0;32m     56\u001b[0m                     event_type \u001b[39m=\u001b[39m event_type,\n\u001b[0;32m     57\u001b[0m                     descrption_long \u001b[39m=\u001b[39m event_details\n\u001b[0;32m     58\u001b[0m                 )]\n\u001b[0;32m     59\u001b[0m \u001b[39mreturn\u001b[39;00m events\n",
      "\u001b[1;31mUnboundLocalError\u001b[0m: local variable 'events' referenced before assignment"
     ]
    }
   ],
   "source": [
    "import datetime as dt\n",
    "from src import scraper_collection\n",
    "\n",
    "scraper_collection.get_all_events(end_date=dt.datetime(2023,7,25))"
   ]
  },
  {
   "cell_type": "markdown",
   "metadata": {},
   "source": [
    "#### qgrid example"
   ]
  },
  {
   "cell_type": "code",
   "execution_count": null,
   "metadata": {},
   "outputs": [],
   "source": [
    "import numpy as np\n",
    "import pandas as pd\n",
    "import qgrid\n",
    "randn = np.random.randn\n",
    "df_types = pd.DataFrame({\n",
    "    'A' : pd.Series(['2013-01-01', '2013-01-02', '2013-01-03', '2013-01-04',\n",
    "               '2013-01-05', '2013-01-06', '2013-01-07', '2013-01-08', '2013-01-09'],index=list(range(9)),dtype='datetime64[ns]'),\n",
    "    'B' : pd.Series(randn(9),index=list(range(9)),dtype='float32'),\n",
    "    'C' : pd.Categorical([\"washington\", \"adams\", \"washington\", \"madison\", \"lincoln\",\"jefferson\", \"hamilton\", \"roosevelt\", \"kennedy\"]),\n",
    "    'D' : [\"foo\", \"bar\", \"buzz\", \"bippity\",\"boppity\", \"foo\", \"foo\", \"bar\", \"zoo\"] })\n",
    "df_types['E'] = df_types['D'] == 'foo'\n",
    "qgrid_widget = qgrid.show_grid(df_types, show_toolbar=True)\n",
    "qgrid_widget"
   ]
  }
 ],
 "metadata": {
  "kernelspec": {
   "display_name": "Python 3 (ipykernel)",
   "language": "python",
   "name": "python3"
  },
  "language_info": {
   "codemirror_mode": {
    "name": "ipython",
    "version": 3
   },
   "file_extension": ".py",
   "mimetype": "text/x-python",
   "name": "python",
   "nbconvert_exporter": "python",
   "pygments_lexer": "ipython3",
   "version": "3.10.9"
  }
 },
 "nbformat": 4,
 "nbformat_minor": 2
}
