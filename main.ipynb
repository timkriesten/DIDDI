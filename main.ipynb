{
 "cells": [
  {
   "cell_type": "markdown",
   "metadata": {},
   "source": [
    "#### Input Scraping Project Test now again and again.."
   ]
  },
  {
   "cell_type": "code",
   "execution_count": null,
   "metadata": {},
   "outputs": [],
   "source": [
    "import ipywidgets as widgets\n",
    "from ipywidgets import HBox, VBox, Button, Dropdown, FloatText, BoundedFloatText, BoundedIntText, Label, ToggleButtons, HTML, Checkbox, AppLayout, Layout, DatePicker\n",
    "from ipyaggrid import Grid\n",
    "import webbrowser\n",
    "import pandas as pd\n",
    "from src import ScraperCollection, events_list2df\n",
    "from datetime import datetime, timedelta"
   ]
  },
  {
   "cell_type": "code",
   "execution_count": null,
   "metadata": {},
   "outputs": [],
   "source": [
    "# generate date and scraper widgets\n",
    "\n",
    "today = datetime.now().date()\n",
    "days_until_next_monday = (0 - today.weekday()) % 7\n",
    "next_monday = today + timedelta(days=days_until_next_monday)\n",
    "date_widgets = {\n",
    "    'start': DatePicker(description = 'Startdatum', value = next_monday),\n",
    "    'end':   DatePicker(description = 'Enddatum', value = next_monday+timedelta(6))\n",
    "}\n",
    "\n",
    "checkbox_layout = {'width': '20px'}\n",
    "label_layout  = {'width': '200px'}\n",
    "button_layout = {'width': '100px'}\n",
    "scraper_widget_rows = [{\n",
    "#    'check': Checkbox(value=False, descrption='', indent=False, layout=checkbox_layout),\n",
    "    'label': Label(scraper.name, layout = label_layout),\n",
    "    'start_scraper': Button(description='get events', layout = button_layout, disabled = not scraper.ready),\n",
    "    'open_url': Button(description='open url', layout = button_layout)\n",
    "} for scraper in ScraperCollection.scrapers]\n",
    "\n",
    "date_and_scrapers = VBox([\n",
    "    HBox(list(date_widgets.values())),\n",
    "    *[HBox(list(widget_row.values())) for widget_row in scraper_widget_rows],\n",
    "    ])\n",
    "\n",
    "# date_and_scrapers"
   ]
  },
  {
   "cell_type": "code",
   "execution_count": null,
   "metadata": {},
   "outputs": [],
   "source": [
    "# generate grid_draft widget\n",
    "\n",
    "column_defs = [{'headerName':'Start','field':'start_date', 'cellDataType': 'dateString', 'editable': True},\n",
    "               {'headerName':'Typ','field':'event_type', 'editable': True},\n",
    "               {'headerName':'Titel','field':'title', 'editable': True},\n",
    "               {'headerName':'URL','field':'url'},\n",
    "               {'headerName':'Organisation','field':'organiser', 'editable': True},\n",
    "               {'headerName':'Ort','field':'location', 'editable': True},\n",
    "               {'headerName':'regelmäßig','field':'periodic', 'editable': True, 'cellDataType': 'boolean'},\n",
    "              ]\n",
    "\n",
    "grid_options = {\n",
    "    'columnDefs' : column_defs,\n",
    "    'enableSorting': True,\n",
    "    'enableColResize': True,\n",
    "    'enableFilter': True,\n",
    "    'enableRangeSelection': True,\n",
    "    'rowSelection': 'multiple',\n",
    "}\n",
    "\n",
    "grid_draft = Grid(grid_data=events_list2df([]),\n",
    "         grid_options=grid_options,\n",
    "         theme='ag-theme-balham',\n",
    "         quick_filter=True,\n",
    "         sync_on_edit=True,\n",
    "         columns_fit='auto',\n",
    "         index=False,\n",
    "         keep_multiindex=False,)\n",
    "\n",
    "# grid_draft"
   ]
  },
  {
   "cell_type": "code",
   "execution_count": null,
   "metadata": {},
   "outputs": [],
   "source": [
    "button_add_final = Button(description='add selection to final', layout = button_layout)"
   ]
  },
  {
   "cell_type": "code",
   "execution_count": null,
   "metadata": {},
   "outputs": [],
   "source": [
    "# generate grid_final widget\n",
    "\n",
    "grid_options = {\n",
    "    'columnDefs' : column_defs,\n",
    "    'enableSorting': True,\n",
    "    'enableColResize': True,\n",
    "    'enableFilter': True,\n",
    "    'enableRangeSelection': True,\n",
    "    'rowSelection': 'multiple',\n",
    "}\n",
    "\n",
    "grid_final = Grid(grid_data=events_list2df([]),\n",
    "         grid_options=grid_options,\n",
    "         theme='ag-theme-balham',\n",
    "         quick_filter=True,\n",
    "         sync_on_edit=True,\n",
    "         columns_fit='auto',\n",
    "         index=False,\n",
    "         keep_multiindex=False,)\n",
    "\n",
    "# grid_final"
   ]
  },
  {
   "cell_type": "code",
   "execution_count": null,
   "metadata": {},
   "outputs": [],
   "source": [
    "# display the app\n",
    "\n",
    "app = VBox([\n",
    "    date_and_scrapers,\n",
    "    grid_draft,\n",
    "    button_add_final,\n",
    "    grid_final\n",
    "    ])\n",
    "\n",
    "app"
   ]
  },
  {
   "cell_type": "code",
   "execution_count": null,
   "metadata": {},
   "outputs": [],
   "source": [
    "# add functionality to widgets\n",
    "\n",
    "def open_url_func(url):\n",
    "    def open_url(button):\n",
    "        webbrowser.open_new_tab(url)\n",
    "    return open_url\n",
    "\n",
    "def add_scraped_events_to_grid_draft(scraper):\n",
    "    def add_scraped_events(button):\n",
    "        start_datetime = datetime.combine(date_widgets['start'].value, datetime.min.time())\n",
    "        end_datetime = datetime.combine(date_widgets['end'].value, datetime.min.time())\n",
    "        button.button_style = 'info'\n",
    "        events = scraper.scrape_events(end_datetime, start_datetime)\n",
    "        events_df = events_list2df(events)\n",
    "        df_old = grid_draft.grid_data_out['grid']\n",
    "        df_new = pd.concat([df_old, events_df], ignore_index=True)\n",
    "        grid_draft.update_grid_data(df_new)\n",
    "        button.button_style = 'success'\n",
    "    return add_scraped_events\n",
    "\n",
    "def change_color(button):\n",
    "    button.button_style = 'success' \n",
    "\n",
    "for i, widget_row in enumerate(scraper_widget_rows):\n",
    "    url_button = widget_row['open_url']\n",
    "    scraper_button = widget_row['start_scraper']\n",
    "    url_button.on_click(open_url_func(ScraperCollection.scrapers[i].url))\n",
    "    url_button.on_click(change_color)\n",
    "    scraper_button.on_click(change_color)\n",
    "    scraper_button.on_click(add_scraped_events_to_grid_draft(ScraperCollection.scrapers[i]))"
   ]
  }
 ],
 "metadata": {
  "kernelspec": {
   "display_name": "Python 3 (ipykernel)",
   "language": "python",
   "name": "python3"
  },
  "language_info": {
   "codemirror_mode": {
    "name": "ipython",
    "version": 3
   },
   "file_extension": ".py",
   "mimetype": "text/x-python",
   "name": "python",
   "nbconvert_exporter": "python",
   "pygments_lexer": "ipython3",
   "version": "3.11.5"
  }
 },
 "nbformat": 4,
 "nbformat_minor": 4
}
