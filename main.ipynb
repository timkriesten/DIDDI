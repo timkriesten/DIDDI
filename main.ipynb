{
 "cells": [
  {
   "cell_type": "markdown",
   "metadata": {},
   "source": [
    "#### First Implementation of scraping all events of defined Website Scrapers and Visualize them in Qgrid"
   ]
  },
  {
   "cell_type": "code",
   "execution_count": 1,
   "metadata": {},
   "outputs": [],
   "source": [
    "import datetime as dt\n",
    "import ipywidgets as widgets\n",
    "from ipywidgets import HBox, VBox, Button, Dropdown, FloatText, BoundedFloatText, BoundedIntText, Label, ToggleButtons, HTML, Checkbox, AppLayout, Layout, DatePicker\n",
    "import webbrowser\n",
    "from src import ScraperCollection\n",
    "from datetime import datetime, timedelta"
   ]
  },
  {
   "cell_type": "code",
   "execution_count": 2,
   "metadata": {},
   "outputs": [
    {
     "data": {
      "application/vnd.jupyter.widget-view+json": {
       "model_id": "99f8bb3fe2504ebb974adb8668c4c90b",
       "version_major": 2,
       "version_minor": 0
      },
      "text/plain": [
       "VBox(children=(DatePicker(value=datetime.date(2023, 9, 11), description='End date', step=1), HBox(children=(La…"
      ]
     },
     "execution_count": 2,
     "metadata": {},
     "output_type": "execute_result"
    }
   ],
   "source": [
    "checkbox_layout = {'width': '20px'}\n",
    "label_layout  = {'width': '200px'}\n",
    "button_layout = {'width': '100px'}\n",
    "widget_rows = [{\n",
    "#    'check': Checkbox(value=False, descrption='', indent=False, layout=checkbox_layout),\n",
    "    'label': Label(scraper.name, layout = label_layout),\n",
    "    'start_scraper': Button(description='get events', layout = button_layout, disabled = not scraper.ready),\n",
    "    'open_url': Button(description='open url', layout = button_layout)\n",
    "} for scraper in ScraperCollection.scrapers]\n",
    "\n",
    "end_date_widget = DatePicker(\n",
    "    description = 'End date',\n",
    "    value = (datetime.now().date() + timedelta(7))\n",
    ")\n",
    "HBox_list = [HBox(list(widget_row.values())) for widget_row in widget_rows]\n",
    "app = VBox([end_date_widget, *HBox_list])\n",
    "\n",
    "def open_url_func(url):\n",
    "    def open_url(button):\n",
    "        webbrowser.open_new_tab(url)\n",
    "    return open_url\n",
    "\n",
    "def change_color(button):\n",
    "    button.button_style = 'success' \n",
    "\n",
    "for i, widget_row in enumerate(widget_rows):\n",
    "    url_button = widget_row['open_url']\n",
    "    scraper_button = widget_row['start_scraper']\n",
    "    url_button.on_click(open_url_func(ScraperCollection.scrapers[i].url))\n",
    "    url_button.on_click(change_color)\n",
    "    scraper_button.on_click(change_color)\n",
    "\n",
    "app"
   ]
  },
  {
   "cell_type": "code",
   "execution_count": 4,
   "metadata": {},
   "outputs": [
    {
     "name": "stdout",
     "output_type": "stream",
     "text": [
      "2023-09-11 00:00:00\n",
      "JapanischesPalais Scraper started.\n",
      "SLUB Scraper started.\n",
      "Lokale Agenda Scraper started.\n"
     ]
    },
    {
     "ename": "ValueError",
     "evalue": "time data 'Fr. 31. Mrz 2023' does not match format '%a. %d. %b %Y'",
     "output_type": "error",
     "traceback": [
      "\u001b[0;31m---------------------------------------------------------------------------\u001b[0m",
      "\u001b[0;31mValueError\u001b[0m                                Traceback (most recent call last)",
      "Cell \u001b[0;32mIn[4], line 3\u001b[0m\n\u001b[1;32m      1\u001b[0m end_datetime \u001b[39m=\u001b[39m datetime\u001b[39m.\u001b[39mcombine(end_date_widget\u001b[39m.\u001b[39mvalue, datetime\u001b[39m.\u001b[39mmin\u001b[39m.\u001b[39mtime())\n\u001b[1;32m      2\u001b[0m \u001b[39mprint\u001b[39m(end_datetime)\n\u001b[0;32m----> 3\u001b[0m events \u001b[39m=\u001b[39m ScraperCollection\u001b[39m.\u001b[39;49mget_all_events_df(end_datetime)\n",
      "File \u001b[0;32m~/CodeProjects/DIDDI/src/scraper_collection.py:31\u001b[0m, in \u001b[0;36mScraperCollection.get_all_events_df\u001b[0;34m(cls, end_date, start_date, **kwargs)\u001b[0m\n\u001b[1;32m     29\u001b[0m events: \u001b[39mlist\u001b[39m[Event] \u001b[39m=\u001b[39m []\n\u001b[1;32m     30\u001b[0m \u001b[39mfor\u001b[39;00m scraper \u001b[39min\u001b[39;00m \u001b[39mcls\u001b[39m\u001b[39m.\u001b[39mscrapers:\n\u001b[0;32m---> 31\u001b[0m     events \u001b[39m+\u001b[39m\u001b[39m=\u001b[39m scraper\u001b[39m.\u001b[39;49mscrape_events(end_date\u001b[39m=\u001b[39;49mend_date,start_date\u001b[39m=\u001b[39;49mstart_date)\n\u001b[1;32m     32\u001b[0m events_df \u001b[39m=\u001b[39m events_list2df(events)\n\u001b[1;32m     33\u001b[0m \u001b[39mreturn\u001b[39;00m events_df\n",
      "File \u001b[0;32m~/CodeProjects/DIDDI/src/scrapers/lokale_agenda.py:39\u001b[0m, in \u001b[0;36mLokaleAgenda.scrape_events\u001b[0;34m(self, end_date, start_date)\u001b[0m\n\u001b[1;32m     37\u001b[0m \u001b[39mif\u001b[39;00m help[\u001b[39m0\u001b[39m]\u001b[39m.\u001b[39mfind(\u001b[39m'\u001b[39m\u001b[39m-\u001b[39m\u001b[39m'\u001b[39m) \u001b[39m!=\u001b[39m \u001b[39m-\u001b[39m\u001b[39m1\u001b[39m:\n\u001b[1;32m     38\u001b[0m     event_time \u001b[39m=\u001b[39m help[\u001b[39m0\u001b[39m]\u001b[39m.\u001b[39msplit(\u001b[39m'\u001b[39m\u001b[39m, \u001b[39m\u001b[39m'\u001b[39m)[\u001b[39m1\u001b[39m]\u001b[39m.\u001b[39mreplace(\u001b[39m'\u001b[39m\u001b[39m Uhr\u001b[39m\u001b[39m'\u001b[39m, \u001b[39m'\u001b[39m\u001b[39m'\u001b[39m)\n\u001b[0;32m---> 39\u001b[0m     event_start_date \u001b[39m=\u001b[39m dt\u001b[39m.\u001b[39;49mdatetime\u001b[39m.\u001b[39;49mstrptime(help[\u001b[39m0\u001b[39;49m]\u001b[39m.\u001b[39;49msplit(\u001b[39m'\u001b[39;49m\u001b[39m -\u001b[39;49m\u001b[39m'\u001b[39;49m)[\u001b[39m0\u001b[39;49m], \u001b[39m'\u001b[39;49m\u001b[39m%a\u001b[39;49;00m\u001b[39m. \u001b[39;49m\u001b[39m%d\u001b[39;49;00m\u001b[39m. \u001b[39;49m\u001b[39m%\u001b[39;49m\u001b[39mb \u001b[39;49m\u001b[39m%\u001b[39;49m\u001b[39mY\u001b[39;49m\u001b[39m'\u001b[39;49m)\n\u001b[1;32m     40\u001b[0m     event_end_date \u001b[39m=\u001b[39m dt\u001b[39m.\u001b[39mdatetime\u001b[39m.\u001b[39mstrptime(help[\u001b[39m0\u001b[39m]\u001b[39m.\u001b[39msplit(\u001b[39m'\u001b[39m\u001b[39m- \u001b[39m\u001b[39m'\u001b[39m)[\u001b[39m1\u001b[39m]\u001b[39m.\u001b[39msplit(\u001b[39m'\u001b[39m\u001b[39m,\u001b[39m\u001b[39m'\u001b[39m)[\u001b[39m0\u001b[39m], \u001b[39m'\u001b[39m\u001b[39m%a\u001b[39;00m\u001b[39m. \u001b[39m\u001b[39m%d\u001b[39;00m\u001b[39m. \u001b[39m\u001b[39m%\u001b[39m\u001b[39mb \u001b[39m\u001b[39m%\u001b[39m\u001b[39mY\u001b[39m\u001b[39m'\u001b[39m)\n\u001b[1;32m     41\u001b[0m \u001b[39melse\u001b[39;00m:\n",
      "File \u001b[0;32m/Library/Frameworks/Python.framework/Versions/3.11/lib/python3.11/_strptime.py:568\u001b[0m, in \u001b[0;36m_strptime_datetime\u001b[0;34m(cls, data_string, format)\u001b[0m\n\u001b[1;32m    565\u001b[0m \u001b[39mdef\u001b[39;00m \u001b[39m_strptime_datetime\u001b[39m(\u001b[39mcls\u001b[39m, data_string, \u001b[39mformat\u001b[39m\u001b[39m=\u001b[39m\u001b[39m\"\u001b[39m\u001b[39m%a\u001b[39;00m\u001b[39m \u001b[39m\u001b[39m%\u001b[39m\u001b[39mb \u001b[39m\u001b[39m%d\u001b[39;00m\u001b[39m \u001b[39m\u001b[39m%\u001b[39m\u001b[39mH:\u001b[39m\u001b[39m%\u001b[39m\u001b[39mM:\u001b[39m\u001b[39m%\u001b[39m\u001b[39mS \u001b[39m\u001b[39m%\u001b[39m\u001b[39mY\u001b[39m\u001b[39m\"\u001b[39m):\n\u001b[1;32m    566\u001b[0m \u001b[39m    \u001b[39m\u001b[39m\"\"\"Return a class cls instance based on the input string and the\u001b[39;00m\n\u001b[1;32m    567\u001b[0m \u001b[39m    format string.\"\"\"\u001b[39;00m\n\u001b[0;32m--> 568\u001b[0m     tt, fraction, gmtoff_fraction \u001b[39m=\u001b[39m _strptime(data_string, \u001b[39mformat\u001b[39;49m)\n\u001b[1;32m    569\u001b[0m     tzname, gmtoff \u001b[39m=\u001b[39m tt[\u001b[39m-\u001b[39m\u001b[39m2\u001b[39m:]\n\u001b[1;32m    570\u001b[0m     args \u001b[39m=\u001b[39m tt[:\u001b[39m6\u001b[39m] \u001b[39m+\u001b[39m (fraction,)\n",
      "File \u001b[0;32m/Library/Frameworks/Python.framework/Versions/3.11/lib/python3.11/_strptime.py:349\u001b[0m, in \u001b[0;36m_strptime\u001b[0;34m(data_string, format)\u001b[0m\n\u001b[1;32m    347\u001b[0m found \u001b[39m=\u001b[39m format_regex\u001b[39m.\u001b[39mmatch(data_string)\n\u001b[1;32m    348\u001b[0m \u001b[39mif\u001b[39;00m \u001b[39mnot\u001b[39;00m found:\n\u001b[0;32m--> 349\u001b[0m     \u001b[39mraise\u001b[39;00m \u001b[39mValueError\u001b[39;00m(\u001b[39m\"\u001b[39m\u001b[39mtime data \u001b[39m\u001b[39m%r\u001b[39;00m\u001b[39m does not match format \u001b[39m\u001b[39m%r\u001b[39;00m\u001b[39m\"\u001b[39m \u001b[39m%\u001b[39m\n\u001b[1;32m    350\u001b[0m                      (data_string, \u001b[39mformat\u001b[39m))\n\u001b[1;32m    351\u001b[0m \u001b[39mif\u001b[39;00m \u001b[39mlen\u001b[39m(data_string) \u001b[39m!=\u001b[39m found\u001b[39m.\u001b[39mend():\n\u001b[1;32m    352\u001b[0m     \u001b[39mraise\u001b[39;00m \u001b[39mValueError\u001b[39;00m(\u001b[39m\"\u001b[39m\u001b[39munconverted data remains: \u001b[39m\u001b[39m%s\u001b[39;00m\u001b[39m\"\u001b[39m \u001b[39m%\u001b[39m\n\u001b[1;32m    353\u001b[0m                       data_string[found\u001b[39m.\u001b[39mend():])\n",
      "\u001b[0;31mValueError\u001b[0m: time data 'Fr. 31. Mrz 2023' does not match format '%a. %d. %b %Y'"
     ]
    }
   ],
   "source": [
    "# end_datetime = datetime.combine(end_date_widget.value, datetime.min.time())\n",
    "# print(end_datetime)\n",
    "# events = ScraperCollection.get_all_events_df(end_datetime)"
   ]
  },
  {
   "cell_type": "code",
   "execution_count": null,
   "metadata": {},
   "outputs": [],
   "source": [
    "# cell_renderer_checkbox = '''function(params) { \n",
    "#     var input = document.createElement('input');\n",
    "#     input.type=\"checkbox\";\n",
    "#     input.checked=params.value;\n",
    "#     input.addEventListener('click', function (event) {\n",
    "#       params.value=!params.value;\n",
    "#       params.node.data.fieldName = params.value;\n",
    "#     });\n",
    "#     return input;\n",
    "#   }\n",
    "# '''\n",
    "\n",
    "# date_picker = '''function DatePicker() {}\n",
    "# DatePicker.prototype.init = function(params) {\n",
    "#   this.eInput = document.createElement('input');\n",
    "#   this.eInput.type = 'date';\n",
    "#   this.eInput.value = params.value;\n",
    "#   this.params = params;\n",
    "#   var that = this;\n",
    "#   this.eInput.addEventListener('input', function(event) {\n",
    "#     that.params.setValue(event.target.value);\n",
    "#   });\n",
    "# };\n",
    "# DatePicker.prototype.getGui = function() {\n",
    "#   return this.eInput;\n",
    "# };\n",
    "# '''\n",
    "# column_defs = [{'headerName':'Start','field':'start_date', 'cellDataType': 'dateString', 'editable': True},\n",
    "#                {'headerName':'Typ','field':'event_type', 'editable': True},\n",
    "#                {'headerName':'Titel','field':'title'},\n",
    "#                {'headerName':'URL','field':'url'},\n",
    "#                {'headerName':'Organisation','field':'organiser'},\n",
    "#                {'headerName':'Ort','field':'location'},\n",
    "#                {'headerName':'regelmäßig','field':'periodic', 'editable': True, 'cellDataType': 'boolean'},\n",
    "#               ]\n",
    "\n",
    "# grid_options = {\n",
    "#     'columnDefs' : column_defs,\n",
    "#     'enableSorting': True,\n",
    "#     'enableFilter': True,\n",
    "#     'enableColResize': True,\n",
    "#     'enableRangeSelection': True,\n",
    "# }\n",
    "\n",
    "# g = Grid(grid_data=events,\n",
    "#          grid_options=grid_options,\n",
    "#          theme='ag-theme-balham',\n",
    "#          quick_filter=True,\n",
    "#          show_toggle_edit=True,\n",
    "#          # export_mode=\"buttons\",\n",
    "#          export_csv=True,\n",
    "#          export_excel=True,\n",
    "#          # show_toggle_delete=True,\n",
    "#          sync_on_edit=True,\n",
    "#          columns_fit='auto',\n",
    "#          index=False,\n",
    "#          keep_multiindex=False,)\n",
    "# g"
   ]
  },
  {
   "cell_type": "code",
   "execution_count": null,
   "metadata": {},
   "outputs": [],
   "source": [
    "# g.grid_data_out.get('grid')"
   ]
  },
  {
   "cell_type": "code",
   "execution_count": null,
   "metadata": {},
   "outputs": [],
   "source": []
  }
 ],
 "metadata": {
  "kernelspec": {
   "display_name": "Python 3 (ipykernel)",
   "language": "python",
   "name": "python3"
  },
  "language_info": {
   "codemirror_mode": {
    "name": "ipython",
    "version": 3
   },
   "file_extension": ".py",
   "mimetype": "text/x-python",
   "name": "python",
   "nbconvert_exporter": "python",
   "pygments_lexer": "ipython3",
   "version": "3.11.5"
  }
 },
 "nbformat": 4,
 "nbformat_minor": 4
}
