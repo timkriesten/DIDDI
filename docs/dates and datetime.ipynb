{
 "cells": [
  {
   "cell_type": "markdown",
   "metadata": {},
   "source": [
    "## Useful conding information about handling date and time formats\n",
    "### Useful websites\n",
    "- [Overview of date and time formats/namming convention](https://strftime.org/)\n",
    "\n",
    "### Converting time formats\n",
    "You can convert strings into datetime by using the function strptime of dt.datetime.\n",
    "\n",
    "Example:"
   ]
  },
  {
   "cell_type": "code",
   "execution_count": null,
   "metadata": {},
   "outputs": [],
   "source": [
    "import datetime as dt\n",
    "\n",
    "datetime_string = '2023-03-31 10:00'\n",
    "datetimeObject = dt.datetime.strptime(datetime_string, \"%Y-%m-%d %H:%M\")\n",
    "print(datetimeObject)"
   ]
  },
  {
   "cell_type": "markdown",
   "metadata": {},
   "source": [
    "Some errors occur if there are still additional spaces in the string. You will then receive an Warning like:\n",
    "\n",
    "```ValueError: unconverted data remains:```"
   ]
  },
  {
   "cell_type": "code",
   "execution_count": null,
   "metadata": {},
   "outputs": [],
   "source": [
    "import datetime as dt\n",
    "\n",
    "datetime_string = '2023-03-31 10:00 '\n",
    "datetimeObject = dt.datetime.strptime(datetime_string, \"%Y-%m-%d %H:%M\")\n",
    "print(datetimeObject)"
   ]
  },
  {
   "cell_type": "markdown",
   "metadata": {},
   "source": [
    "Sometime days are given not only as numbers but as strings as well (for example 'Fr' for Friday or Freitag). To handle this, the right language settingsare needed. You can set them with:\n",
    "```\n",
    "import locale\n",
    "#set timezone\n",
    "locale.setlocale(locale.LC_TIME, 'de_DE')\n",
    "```"
   ]
  }
 ],
 "metadata": {
  "kernelspec": {
   "display_name": "Python 3",
   "language": "python",
   "name": "python3"
  },
  "language_info": {
   "codemirror_mode": {
    "name": "ipython",
    "version": 3
   },
   "file_extension": ".py",
   "mimetype": "text/x-python",
   "name": "python",
   "nbconvert_exporter": "python",
   "pygments_lexer": "ipython3",
   "version": "3.10.9"
  },
  "orig_nbformat": 4
 },
 "nbformat": 4,
 "nbformat_minor": 2
}
